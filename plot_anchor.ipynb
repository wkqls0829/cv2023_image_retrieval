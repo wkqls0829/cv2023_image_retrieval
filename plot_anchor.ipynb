{
 "cells": [
  {
   "cell_type": "code",
   "execution_count": 32,
   "id": "a083b154-c1e1-4df2-827d-720aa0d1e699",
   "metadata": {},
   "outputs": [],
   "source": [
    "from sklearn.manifold import TSNE \n",
    "import numpy as np\n",
    "from matplotlib import pyplot as plt\n",
    "import datasampler   as dsamplers\n",
    "import torch\n",
    "import torchvision\n",
    "import torchvision.transforms as transforms\n",
    "from torch.utils.data import DataLoader\n",
    "import torch.nn as nn\n",
    "\n",
    "device = torch.device(\"cuda:0\" if torch.cuda.is_available() else \"cpu\")"
   ]
  },
  {
   "cell_type": "code",
   "execution_count": 33,
   "id": "bbe27cb0-3b38-4327-a54d-32d80e2e340a",
   "metadata": {},
   "outputs": [],
   "source": [
    "import datasets as datasets\n",
    "import datasets.cub200 as cub200\n",
    "import architectures as archs\n",
    "import os, sys, numpy as np, argparse, imp, datetime, pandas as pd, copy\n",
    "import time, pickle as pkl, random, json, collections\n",
    "import matplotlib\n",
    "matplotlib.use('agg')\n",
    "import matplotlib.pyplot as plt\n",
    "\n",
    "from tqdm import tqdm\n",
    "\n",
    "import parameters    as par"
   ]
  },
  {
   "cell_type": "code",
   "execution_count": 46,
   "id": "855b69ff-4ad1-4949-a297-a93723a2b07d",
   "metadata": {},
   "outputs": [],
   "source": [
    "args = argparse.Namespace(\n",
    "    loss=\"margin\",\n",
    "    batch_mining=\"distance\",\n",
    "    log_online=True,\n",
    "    project=\"DML_project\",\n",
    "    group=\"cub200lt\",\n",
    "    seed=0,\n",
    "    gpu=7,\n",
    "    bs=112,\n",
    "    data_sampler=\"class_random\",\n",
    "    samples_per_class=2,\n",
    "    arch=\"resnet50_frozen_normalize\",\n",
    "    source=\"/hdd/hdd3/kjb/dataset\",\n",
    "    n_epochs=150,\n",
    "    lr=0.00001,\n",
    "    embed_dim=128,\n",
    "    evaluate_on_gpu=True,\n",
    "    imb_factor=0.1,\n",
    "    savename=\"test\"\n",
    ")"
   ]
  },
  {
   "cell_type": "code",
   "execution_count": 47,
   "id": "eed371d8-5b15-4758-adb9-2c72cb4dc19f",
   "metadata": {},
   "outputs": [],
   "source": [
    "################### INPUT ARGUMENTS ###################\n",
    "parser = argparse.ArgumentParser()\n",
    "\n",
    "parser = par.basic_training_parameters(parser)\n",
    "parser = par.batch_creation_parameters(parser)\n",
    "parser = par.batchmining_specific_parameters(parser)\n",
    "parser = par.loss_specific_parameters(parser)\n",
    "parser = par.wandb_parameters(parser)\n",
    "\n",
    "##### Read in parameters\n",
    "opt = parser.parse_args(args=[])"
   ]
  },
  {
   "cell_type": "code",
   "execution_count": 61,
   "id": "3709147c-56c9-44c3-acb1-ffb6f3bd388b",
   "metadata": {},
   "outputs": [
    {
     "name": "stdout",
     "output_type": "stream",
     "text": [
      "over\n",
      "spliting test data into [10, 10, 10, 10, 10, 10, 10, 10, 10, 10, 10, 10, 10, 10, 10, 10, 10, 10, 10, 10, 10, 10, 10, 10, 10, 10, 10, 10, 10, 10, 10, 10, 10, 10, 10, 10, 10, 10, 10, 10, 10, 10, 10, 10, 10, 10, 10, 10, 10, 10, 10, 10, 10, 10, 10, 10, 10, 10, 10, 10, 10, 10, 10, 10, 10, 10, 10, 10, 10, 10, 10, 10, 10, 10, 10, 10, 10, 10, 10, 10, 10, 10, 10, 10, 10, 10, 10, 10, 10, 10, 10, 10, 10, 10, 10, 10, 10, 10, 10, 10, 10, 10, 10, 10, 10, 10, 10, 10, 10, 10, 10, 10, 10, 10, 10, 10, 10, 10, 10, 10, 10, 10, 10, 10, 10, 10, 10, 10, 10, 10, 10, 10, 10, 10, 10, 10, 10, 10, 10, 10, 10, 10, 10, 10, 10, 10, 10, 10, 10, 10, 10, 10, 10, 10, 10, 10, 10, 10, 10, 10, 10, 10, 10, 10, 10, 10, 10, 10, 10, 10, 10, 10, 10, 10, 10, 10, 10, 10, 10, 10, 10, 10, 10, 10, 10, 10, 10, 10, 10, 10, 10, 10, 10, 10, 10, 10, 10, 10, 10, 10] number of datasets\n",
      "spliting train data into [50, 49, 48, 48, 44, 41, 46, 46, 45, 45, 44, 44, 43, 43, 42, 42, 41, 41, 40, 40, 39, 39, 38, 38, 37, 37, 37, 36, 36, 35, 35, 34, 34, 34, 33, 33, 32, 32, 32, 31, 31, 31, 30, 30, 30, 29, 29, 29, 28, 28, 28, 27, 27, 27, 26, 26, 26, 25, 25, 25, 24, 24, 24, 24, 23, 23, 23, 23, 22, 22, 22, 21, 21, 21, 21, 20, 20, 20, 20, 20, 19, 19, 19, 19, 18, 18, 18, 18, 18, 17, 17, 17, 17, 17, 16, 16, 16, 16, 16, 15, 15, 15, 15, 15, 15, 14, 14, 14, 14, 14, 14, 13, 13, 13, 13, 13, 13, 12, 12, 12, 12, 12, 12, 12, 11, 11, 11, 11, 11, 11, 11, 10, 10, 10, 10, 10, 10, 10, 10, 10, 9, 9, 9, 9, 9, 9, 9, 9, 9, 8, 8, 8, 8, 8, 8, 8, 8, 8, 8, 7, 7, 7, 7, 7, 7, 7, 7, 7, 7, 7, 6, 6, 6, 6, 6, 6, 6, 6, 6, 6, 6, 6, 6, 6, 5, 5, 5, 5, 5, 5, 5, 5, 5, 5, 5, 5, 5, 5, 5, 5] number of datasets\n",
      "\n",
      "Dataset Setup:\n",
      "Using Train-Val Split: False\n",
      "#Classes: Train (200) | Val (X) | Test (200)\n",
      "\n",
      "{199: 50, 198: 49, 197: 48, 196: 48, 195: 44, 194: 41, 193: 46, 192: 46, 191: 45, 190: 45, 189: 44, 188: 44, 187: 43, 186: 43, 185: 42, 184: 42, 183: 41, 182: 41, 181: 40, 180: 40, 179: 39, 178: 39, 177: 38, 176: 38, 175: 37, 174: 37, 173: 37, 172: 36, 171: 36, 170: 35, 169: 35, 168: 34, 167: 34, 166: 34, 165: 33, 164: 33, 163: 32, 162: 32, 161: 32, 160: 31, 159: 31, 158: 31, 157: 30, 156: 30, 155: 30, 154: 29, 153: 29, 152: 29, 151: 28, 150: 28, 149: 28, 148: 27, 147: 27, 146: 27, 145: 26, 144: 26, 143: 26, 142: 25, 141: 25, 140: 25, 139: 24, 138: 24, 137: 24, 136: 24, 135: 23, 134: 23, 133: 23, 132: 23, 131: 22, 130: 22, 129: 22, 128: 21, 127: 21, 126: 21, 125: 21, 124: 20, 123: 20, 122: 20, 121: 20, 120: 20, 119: 19, 118: 19, 117: 19, 116: 19, 115: 18, 114: 18, 113: 18, 112: 18, 111: 18, 110: 17, 109: 17, 108: 17, 107: 17, 106: 17, 105: 16, 104: 16, 103: 16, 102: 16, 101: 16, 100: 15, 99: 15, 98: 15, 97: 15, 96: 15, 95: 15, 94: 14, 93: 14, 92: 14, 91: 14, 90: 14, 89: 14, 88: 13, 87: 13, 86: 13, 85: 13, 84: 13, 83: 13, 82: 12, 81: 12, 80: 12, 79: 12, 78: 12, 77: 12, 76: 12, 75: 11, 74: 11, 73: 11, 72: 11, 71: 11, 70: 11, 69: 11, 68: 10, 67: 10, 66: 10, 65: 10, 64: 10, 63: 10, 62: 10, 61: 10, 60: 10, 59: 9, 58: 9, 57: 9, 56: 9, 55: 9, 54: 9, 53: 9, 52: 9, 51: 9, 50: 8, 49: 8, 48: 8, 47: 8, 46: 8, 45: 8, 44: 8, 43: 8, 42: 8, 41: 8, 40: 7, 39: 7, 38: 7, 37: 7, 36: 7, 35: 7, 34: 7, 33: 7, 32: 7, 31: 7, 30: 7, 29: 6, 28: 6, 27: 6, 26: 6, 25: 6, 24: 6, 23: 6, 22: 6, 21: 6, 20: 6, 19: 6, 18: 6, 17: 6, 16: 6, 15: 5, 14: 5, 13: 5, 12: 5, 11: 5, 10: 5, 9: 5, 8: 5, 7: 5, 6: 5, 5: 5, 4: 5, 3: 5, 2: 5, 1: 5, 0: 5}\n"
     ]
    }
   ],
   "source": [
    "opt.imb_factor = 0.1\n",
    "opt.data_sampler = 'over'\n",
    "\n",
    "datasets = cub200.Give(opt, '/hdd/hdd3/kjb/dataset/cub200')\n",
    "\n",
    "dataloaders = {}\n",
    "train_data_sampler      = dsamplers.select(opt.data_sampler, opt, datasets['training'].image_dict, datasets['training'].image_list)\n",
    "dataloaders['training'] = torch.utils.data.DataLoader(datasets['training'], num_workers=opt.kernels, batch_sampler=train_data_sampler)\n",
    "# dataloaders['training'] = torch.utils.data.DataLoader(datasets['testing'],  num_workers=6, batch_size=112, shuffle=False)"
   ]
  },
  {
   "cell_type": "code",
   "execution_count": null,
   "id": "9609969f",
   "metadata": {},
   "outputs": [],
   "source": []
  },
  {
   "cell_type": "code",
   "execution_count": null,
   "id": "803d0d5c",
   "metadata": {},
   "outputs": [],
   "source": []
  },
  {
   "cell_type": "code",
   "execution_count": null,
   "id": "1658dc7f",
   "metadata": {},
   "outputs": [],
   "source": []
  },
  {
   "cell_type": "code",
   "execution_count": null,
   "id": "3b470085-da55-4213-8551-653620aad295",
   "metadata": {},
   "outputs": [],
   "source": []
  },
  {
   "cell_type": "markdown",
   "id": "ce04b66b-0e60-4967-8a42-9e897cebe897",
   "metadata": {},
   "source": [
    "## Simulate Sampliing"
   ]
  },
  {
   "cell_type": "code",
   "execution_count": 62,
   "id": "bcb61ec0-9496-41c4-8b71-3d7e54ecb883",
   "metadata": {},
   "outputs": [],
   "source": [
    "class_labels = range(200)\n",
    "count_dict = {key: 0 for key in range(200)}\n",
    "\n",
    "%matplotlib inline\n",
    "with torch.no_grad():\n",
    "    for data in dataloaders['training']:\n",
    "        # label, feature: (b, c, 224, 224)\n",
    "        labels, images = data[0].to(device), data[1].to(device)\n",
    "        labels  = labels.detach().cpu()\n",
    "\n",
    "        for value in labels:\n",
    "            idx = int(value)\n",
    "            count_dict[idx] +=1\n",
    "        \n",
    "\n",
    "\n"
   ]
  },
  {
   "cell_type": "code",
   "execution_count": 64,
   "id": "a740ea4d-4150-475e-93fa-675d10b5442e",
   "metadata": {},
   "outputs": [
    {
     "data": {
      "image/png": "[encoded data removed]",
      "text/plain": [
       "<Figure size 1000x600 with 1 Axes>"
      ]
     },
     "metadata": {},
     "output_type": "display_data"
    }
   ],
   "source": [
    "import matplotlib.pyplot as plt\n",
    "\n",
    "instance_counts = list(count_dict.values())\n",
    "\n",
    "# Plotting the data\n",
    "plt.figure(figsize=(10, 6))\n",
    "plt.bar(class_labels, instance_counts, color='orange')\n",
    "plt.xlabel('Class Label')\n",
    "plt.ylabel('Number of Instances As Anchor')\n",
    "plt.title('Number of Anchor Instances per Class in Train Dataset')\n",
    "plt.grid(axis='y')\n",
    "\n",
    "# Show the plot\n",
    "plt.show()"
   ]
  },
  {
   "cell_type": "code",
   "execution_count": null,
   "id": "6fe9a4b1",
   "metadata": {},
   "outputs": [],
   "source": []
  }
 ],
 "metadata": {
  "kernelspec": {
   "display_name": "Python 3 (ipykernel)",
   "language": "python",
   "name": "python3"
  },
  "language_info": {
   "codemirror_mode": {
    "name": "ipython",
    "version": 3
   },
   "file_extension": ".py",
   "mimetype": "text/x-python",
   "name": "python",
   "nbconvert_exporter": "python",
   "pygments_lexer": "ipython3",
   "version": "3.7.16"
  }
 },
 "nbformat": 4,
 "nbformat_minor": 5
}
