{
 "cells": [
  {
   "cell_type": "code",
   "execution_count": 1,
   "id": "75c5f31d",
   "metadata": {},
   "outputs": [],
   "source": [
    "import matplotlib.pyplot as plt\n",
    "import os"
   ]
  },
  {
   "cell_type": "code",
   "execution_count": 2,
   "id": "55824f98",
   "metadata": {},
   "outputs": [],
   "source": [
    "# Load your dataset from the specified path\n",
    "image_sourcepath = '/hdd/hdd1/lyj/cub200/images'"
   ]
  },
  {
   "cell_type": "code",
   "execution_count": 3,
   "id": "cb98a953",
   "metadata": {},
   "outputs": [],
   "source": [
    "image_classes     = sorted([x for x in os.listdir(image_sourcepath) if '._' not in x], key=lambda x: int(x.split('.')[0]))"
   ]
  },
  {
   "cell_type": "code",
   "execution_count": 4,
   "id": "1b91dfb4",
   "metadata": {},
   "outputs": [],
   "source": [
    "image_list        = {int(key.split('.')[0])-1:sorted([image_sourcepath+'/'+key+'/'+x for x in os.listdir(image_sourcepath+'/'+key) if '._' not in x]) for key in image_classes}\n",
    "image_list        = [[(key,img_path) for img_path in image_list[key]] for key in image_list.keys()]"
   ]
  },
  {
   "cell_type": "code",
   "execution_count": 5,
   "id": "5dad6e2e",
   "metadata": {},
   "outputs": [],
   "source": [
    "imb_factor = 0.1"
   ]
  },
  {
   "cell_type": "code",
   "execution_count": 6,
   "id": "be2839a3",
   "metadata": {},
   "outputs": [],
   "source": [
    "def get_img_num_per_cls(img_max, cls_num, imb_factor): # imb = 1, 0.5, 0.1               \n",
    "    img_num_per_cls = []\n",
    "    for cls_idx in range(cls_num):\n",
    "        num = img_max * (imb_factor**(cls_idx / (cls_num - 1.0)))\n",
    "        img_num_per_cls.append(int(num))\n",
    "\n",
    "    return img_num_per_cls"
   ]
  },
  {
   "cell_type": "code",
   "execution_count": 7,
   "id": "f983736a",
   "metadata": {},
   "outputs": [],
   "source": [
    "# Truncate Dataset for LT Ratio\n",
    "cls_num = len(image_list)\n",
    "img_max = len(image_list[0]) - 10\n",
    "img_num_per_cls = get_img_num_per_cls(img_max, cls_num, imb_factor) # img number를 점점 줄어들게 list"
   ]
  },
  {
   "cell_type": "code",
   "execution_count": 8,
   "id": "22757c25",
   "metadata": {},
   "outputs": [],
   "source": [
    "image_list = [images[:img_num] for images, img_num in zip(image_list, img_num_per_cls)]\n",
    "image_list = [x for y in image_list for x in y]"
   ]
  },
  {
   "cell_type": "code",
   "execution_count": 9,
   "id": "d5c8c6fe",
   "metadata": {},
   "outputs": [],
   "source": [
    "### Dictionary of structure class:list_of_samples_with_said_class\n",
    "image_dict    = {}\n",
    "for key, img_path in image_list:\n",
    "    if not key in image_dict.keys():\n",
    "        image_dict[key] = []\n",
    "    image_dict[key].append(img_path)\n",
    "\n",
    "### Use the first half of the sorted data as training and the second half as test set\n",
    "keys = sorted(list(image_dict.keys()))\n"
   ]
  },
  {
   "cell_type": "code",
   "execution_count": 10,
   "id": "c9069fac",
   "metadata": {},
   "outputs": [],
   "source": [
    "train_image_dict = {key:image_dict[key] for key in keys}"
   ]
  },
  {
   "cell_type": "code",
   "execution_count": 11,
   "id": "450ed8a6",
   "metadata": {},
   "outputs": [
    {
     "name": "stdout",
     "output_type": "stream",
     "text": [
      "{0: 50, 1: 49, 2: 48, 3: 48, 4: 44, 5: 41, 6: 46, 7: 46, 8: 45, 9: 45, 10: 44, 11: 44, 12: 43, 13: 43, 14: 42, 15: 42, 16: 41, 17: 41, 18: 40, 19: 40, 20: 39, 21: 39, 22: 38, 23: 38, 24: 37, 25: 37, 26: 37, 27: 36, 28: 36, 29: 35, 30: 35, 31: 34, 32: 34, 33: 34, 34: 33, 35: 33, 36: 32, 37: 32, 38: 32, 39: 31, 40: 31, 41: 31, 42: 30, 43: 30, 44: 30, 45: 29, 46: 29, 47: 29, 48: 28, 49: 28, 50: 28, 51: 27, 52: 27, 53: 27, 54: 26, 55: 26, 56: 26, 57: 25, 58: 25, 59: 25, 60: 24, 61: 24, 62: 24, 63: 24, 64: 23, 65: 23, 66: 23, 67: 23, 68: 22, 69: 22, 70: 22, 71: 21, 72: 21, 73: 21, 74: 21, 75: 20, 76: 20, 77: 20, 78: 20, 79: 20, 80: 19, 81: 19, 82: 19, 83: 19, 84: 18, 85: 18, 86: 18, 87: 18, 88: 18, 89: 17, 90: 17, 91: 17, 92: 17, 93: 17, 94: 16, 95: 16, 96: 16, 97: 16, 98: 16, 99: 15, 100: 15, 101: 15, 102: 15, 103: 15, 104: 15, 105: 14, 106: 14, 107: 14, 108: 14, 109: 14, 110: 14, 111: 13, 112: 13, 113: 13, 114: 13, 115: 13, 116: 13, 117: 12, 118: 12, 119: 12, 120: 12, 121: 12, 122: 12, 123: 12, 124: 11, 125: 11, 126: 11, 127: 11, 128: 11, 129: 11, 130: 11, 131: 10, 132: 10, 133: 10, 134: 10, 135: 10, 136: 10, 137: 10, 138: 10, 139: 10, 140: 9, 141: 9, 142: 9, 143: 9, 144: 9, 145: 9, 146: 9, 147: 9, 148: 9, 149: 8, 150: 8, 151: 8, 152: 8, 153: 8, 154: 8, 155: 8, 156: 8, 157: 8, 158: 8, 159: 7, 160: 7, 161: 7, 162: 7, 163: 7, 164: 7, 165: 7, 166: 7, 167: 7, 168: 7, 169: 7, 170: 6, 171: 6, 172: 6, 173: 6, 174: 6, 175: 6, 176: 6, 177: 6, 178: 6, 179: 6, 180: 6, 181: 6, 182: 6, 183: 6, 184: 5, 185: 5, 186: 5, 187: 5, 188: 5, 189: 5, 190: 5, 191: 5, 192: 5, 193: 5, 194: 5, 195: 5, 196: 5, 197: 5, 198: 5, 199: 5}\n"
     ]
    }
   ],
   "source": [
    "# Calculate and store the number of instances for each class\n",
    "class_instance_counts = {key: len(instances_list) for key, instances_list in image_dict.items()}\n",
    "print(class_instance_counts)"
   ]
  },
  {
   "cell_type": "code",
   "execution_count": 12,
   "id": "dcf94145",
   "metadata": {},
   "outputs": [],
   "source": [
    "sorted_class_instance_counts = dict(sorted(class_instance_counts.items(), key=lambda item: item[1]))"
   ]
  },
  {
   "cell_type": "code",
   "execution_count": 13,
   "id": "1f0175d3",
   "metadata": {},
   "outputs": [
    {
     "data": {
      "image/png": "[encoded data removed]",
      "text/plain": [
       "<Figure size 1000x600 with 1 Axes>"
      ]
     },
     "metadata": {},
     "output_type": "display_data"
    }
   ],
   "source": [
    "import matplotlib.pyplot as plt\n",
    "\n",
    "sorted_class_instance_counts = dict(sorted(class_instance_counts.items(), key=lambda item: item[1], reverse=True))\n",
    "\n",
    "# Renumber the classes based on the sorted order\n",
    "renumbered_classes = {new_label: old_label for new_label, old_label in enumerate(sorted_class_instance_counts)}\n",
    "\n",
    "# Create a new dictionary with renumbered classes\n",
    "renumbered_class_instance_counts = {new_label: sorted_class_instance_counts[old_label] for new_label, old_label in renumbered_classes.items()}\n",
    "\n",
    "# Extract keys and values for plotting\n",
    "class_labels = list(renumbered_class_instance_counts.keys())\n",
    "instance_counts = list(renumbered_class_instance_counts.values())\n",
    "\n",
    "# Plotting the data\n",
    "plt.figure(figsize=(10, 6))\n",
    "plt.bar(class_labels, instance_counts, color='yellowgreen')\n",
    "plt.xlabel('Class Label')\n",
    "plt.ylabel('Number of Instances')\n",
    "plt.title('Number of Instances per Class in Train Dataset')\n",
    "plt.grid(axis='y')\n",
    "\n",
    "# Show the plot\n",
    "plt.show()"
   ]
  },
  {
   "cell_type": "code",
   "execution_count": null,
   "id": "91d0306a",
   "metadata": {},
   "outputs": [],
   "source": []
  }
 ],
 "metadata": {
  "kernelspec": {
   "display_name": "Python 3 (ipykernel)",
   "language": "python",
   "name": "python3"
  },
  "language_info": {
   "codemirror_mode": {
    "name": "ipython",
    "version": 3
   },
   "file_extension": ".py",
   "mimetype": "text/x-python",
   "name": "python",
   "nbconvert_exporter": "python",
   "pygments_lexer": "ipython3",
   "version": "3.7.16"
  }
 },
 "nbformat": 4,
 "nbformat_minor": 5
}
